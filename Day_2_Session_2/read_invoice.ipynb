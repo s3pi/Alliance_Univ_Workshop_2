{
 "cells": [
  {
   "cell_type": "code",
   "execution_count": 1,
   "metadata": {},
   "outputs": [],
   "source": [
    "import requests\n",
    "import base64\n",
    "from langchain.prompts import ChatPromptTemplate\n",
    "from langchain.chat_models import ChatOpenAI"
   ]
  },
  {
   "cell_type": "code",
   "execution_count": 2,
   "metadata": {},
   "outputs": [],
   "source": [
    "# !pip install langchain\n",
    "# !pip install openai"
   ]
  },
  {
   "cell_type": "code",
   "execution_count": 3,
   "metadata": {},
   "outputs": [],
   "source": [
    "# OpenAI API Key\n",
    "api_key = \"\"\n",
    "\n",
    "# Function to encode the image\n",
    "def encode_image(image_path):\n",
    "  with open(image_path, \"rb\") as image_file:\n",
    "    return base64.b64encode(image_file.read()).decode('utf-8')\n",
    "\n",
    "# Path to your image\n",
    "image_path = \"data/bank_statement_example_2.JPG\"\n",
    "\n",
    "# Getting the base64 string\n",
    "base64_image = encode_image(image_path)\n",
    "\n"
   ]
  },
  {
   "cell_type": "code",
   "execution_count": 4,
   "metadata": {},
   "outputs": [],
   "source": [
    "\n",
    "# Set page layout to wide\n",
    "# st.set_page_config(layout=\"wide\")\n",
    "\n",
    "def get_answer(image, text):\n",
    "    try:\n",
    "        headers = {\n",
    "        \"Content-Type\": \"application/json\",\n",
    "        \"Authorization\": f\"Bearer {api_key}\"\n",
    "        }\n",
    "\n",
    "        payload = {\n",
    "        \"model\": \"gpt-4-vision-preview\",\n",
    "        \"messages\": [\n",
    "            {\n",
    "            \"role\": \"user\",\n",
    "            \"content\": [\n",
    "                {\n",
    "                \"type\": \"text\",\n",
    "                \"text\": text\n",
    "                },\n",
    "                {\n",
    "                \"type\": \"image_url\",\n",
    "                \"image_url\": {\n",
    "                    \"url\": f\"data:image/jpeg;base64,{image}\"\n",
    "                }\n",
    "                }\n",
    "            ]\n",
    "            }\n",
    "        ],\n",
    "        \"max_tokens\": 300\n",
    "        }\n",
    "\n",
    "        response = requests.post(\"https://api.openai.com/v1/chat/completions\", headers=headers, json=payload)\n",
    "\n",
    "        # print(response.json())\n",
    "        answer = response.json()['choices'][0]['message']['content']\n",
    "        return answer\n",
    "\n",
    "    except Exception as e:\n",
    "        return str(e)\n"
   ]
  },
  {
   "cell_type": "code",
   "execution_count": 5,
   "metadata": {},
   "outputs": [
    {
     "name": "stdout",
     "output_type": "stream",
     "text": [
      "Output: This image contains a bank withdrawal slip from Bank of Baroda, which is a bank operating in India. From the details visible:\n",
      "\n",
      "- Account Number: 734 8493 1303 9312\n",
      "- The amount in words: Thirty thousand only\n",
      "- The amount in figures: ₹ 30,000/-\n",
      "- The signature is present at the bottom right, but I cannot disclose the identity associated with the signature.\n",
      "- The date appears to be written possibly as 10/4/24, which might refer to 10th April 2024, but this should be double-checked as the year part is not very clear.\n",
      "\n",
      "Furthermore, the slip has instructions written in Hindi and alerts the person to pay cash. The withdrawal slip also has some pre-printed notes indicating the requirement for accompanying the passbook with this form.\n"
     ]
    }
   ],
   "source": [
    "question = \"Extract info from the image\"\n",
    "output = get_answer(base64_image, question)\n",
    "print(f\"Output: {output}\")"
   ]
  },
  {
   "cell_type": "code",
   "execution_count": 6,
   "metadata": {},
   "outputs": [
    {
     "name": "stdout",
     "output_type": "stream",
     "text": [
      "For the following text, extract the following information:\n",
      "name: Extract the name of the account holder.\n",
      "branch: Extract the name of the branch of the savings bank account.\n",
      "account_number: Extract the account number from the image.\n",
      "date: Extract the date of the transaction.\n",
      "rupees: Extract the amount mentioned in the form in wordsa and figures.\n",
      "text:  This image contains a bank withdrawal slip from Bank of Baroda, which is a bank operating in India. From the details visible:\n",
      "\n",
      "- Account Number: 734 8493 1303 9312\n",
      "- The amount in words: Thirty thousand only\n",
      "- The amount in figures: ₹ 30,000/-\n",
      "- The signature is present at the bottom right, but I cannot disclose the identity associated with the signature.\n",
      "- The date appears to be written possibly as 10/4/24, which might refer to 10th April 2024, but this should be double-checked as the year part is not very clear.\n",
      "\n",
      "Furthermore, the slip has instructions written in Hindi and alerts the person to pay cash. The withdrawal slip also has some pre-printed notes indicating the requirement for accompanying the passbook with this form.\n"
     ]
    },
    {
     "name": "stderr",
     "output_type": "stream",
     "text": [
      "/opt/anaconda3/envs/aiworkshop/lib/python3.11/site-packages/langchain_core/_api/deprecation.py:117: LangChainDeprecationWarning: The class `langchain_community.chat_models.openai.ChatOpenAI` was deprecated in langchain-community 0.0.10 and will be removed in 0.2.0. An updated version of the class exists in the langchain-openai package and should be used instead. To use it run `pip install -U langchain-openai` and import as `from langchain_openai import ChatOpenAI`.\n",
      "  warn_deprecated(\n",
      "/opt/anaconda3/envs/aiworkshop/lib/python3.11/site-packages/langchain_core/_api/deprecation.py:117: LangChainDeprecationWarning: The function `__call__` was deprecated in LangChain 0.1.7 and will be removed in 0.2.0. Use invoke instead.\n",
      "  warn_deprecated(\n"
     ]
    },
    {
     "name": "stdout",
     "output_type": "stream",
     "text": [
      "name: Not mentioned\n",
      "branch: Bank of Baroda\n",
      "account_number: 734 8493 1303 9312\n",
      "date: Possibly 10th April 2024\n",
      "rupees: Thirty thousand only, ₹ 30,000/-\n",
      "<class 'str'>\n"
     ]
    }
   ],
   "source": [
    "extracted_text = output\n",
    "form_template = f'''For the following text, extract the following information:\n",
    "name: Extract the name of the account holder.\n",
    "branch: Extract the name of the branch of the savings bank account.\n",
    "account_number: Extract the account number from the image.\n",
    "date: Extract the date of the transaction.\n",
    "rupees: Extract the amount mentioned in the form in wordsa and figures.\n",
    "text:  {extracted_text}'''\n",
    "print(form_template)\n",
    "\n",
    "prompt_template = ChatPromptTemplate.from_template(form_template)\n",
    "messages = prompt_template.format_messages(text=extracted_text)\n",
    "chat = ChatOpenAI(temperature=0.0, openai_api_key=api_key)\n",
    "response = chat(messages)\n",
    "print(response.content)\n",
    "print(type(response.content))\n",
    "# response.content.get('name') \n",
    "# - It will fail because the response is a string"
   ]
  },
  {
   "cell_type": "code",
   "execution_count": 7,
   "metadata": {},
   "outputs": [
    {
     "name": "stdout",
     "output_type": "stream",
     "text": [
      "{'person_name': 'Not available', 'branch': 'Bank of Baroda', 'account_number': '734 8493 1303 9312', 'date': '10/4/24', 'rupees': 'Thirty thousand only (₹ 30,000/-)'}\n",
      "Not available\n",
      "<class 'dict'>\n"
     ]
    }
   ],
   "source": [
    "# extracted_text = \"extract text into this variable\"\n",
    "from langchain.output_parsers import ResponseSchema\n",
    "from langchain.output_parsers import StructuredOutputParser\n",
    "from langchain.prompts import ChatPromptTemplate\n",
    "name_schema = ResponseSchema(name=\"person_name\",description=\"Extract the name of the account holder.\")\n",
    "branch_schema = ResponseSchema(name=\"branch\",\n",
    "                             description=\"Extract the name of the branch of the savings bank account.\")\n",
    "account_number_schema = ResponseSchema(name=\"account_number\",\n",
    "                                      description=\"Extract the account number from the image.\")\n",
    "date_schema = ResponseSchema(name=\"date\",\n",
    "                                    description=\"Extract the date of the transaction.\")\n",
    "rupees_schema = ResponseSchema(name=\"rupees\",\n",
    "                                    description=\"Extract the amount mentioned in the form in wordsa and figures.\")\n",
    "response_schemas = [name_schema,\n",
    "                    branch_schema,\n",
    "                    account_number_schema,\n",
    "                    date_schema,\n",
    "                    rupees_schema,\n",
    "                    ]\n",
    "output_parser = StructuredOutputParser.from_response_schemas(response_schemas)\n",
    "format_instructions = output_parser.get_format_instructions()\n",
    "# print(format_instructions)\n",
    "form_template = '''\\\n",
    "For the following text, extract the following information:\n",
    "person_name: Extract the name of the account holder.\n",
    "\n",
    "branch: Extract the name of the branch of the savings bank account.\n",
    "\n",
    "account_number: Extract the account number from the image.\n",
    "\n",
    "date: Extract the date of the transaction.\n",
    "\n",
    "rupees: Extract the amount mentioned in the form in wordsa and figures.\n",
    "\n",
    "text: {text}\n",
    "\n",
    "format_instructions: {format_instructions}\n",
    "'''\n",
    "# print(form_template)\n",
    "\n",
    "prompt = ChatPromptTemplate.from_template(template=form_template)\n",
    "# print(prompt)\n",
    "messages = prompt.format_messages(text=extracted_text,\n",
    "                                format_instructions=format_instructions)\n",
    "# print(messages)\n",
    "# print(messages[0].content)\n",
    "response = chat(messages)\n",
    "# print(response.content)\n",
    "output_dict = output_parser.parse(response.content)\n",
    "print(output_dict)\n",
    "print(output_dict['person_name'])\n",
    "print(type(output_dict))"
   ]
  },
  {
   "cell_type": "code",
   "execution_count": 8,
   "metadata": {},
   "outputs": [
    {
     "name": "stdout",
     "output_type": "stream",
     "text": [
      "Not available\n"
     ]
    }
   ],
   "source": [
    "print(output_dict['person_name'])\n"
   ]
  },
  {
   "cell_type": "code",
   "execution_count": null,
   "metadata": {},
   "outputs": [],
   "source": []
  }
 ],
 "metadata": {
  "kernelspec": {
   "display_name": "aiworkshop",
   "language": "python",
   "name": "python3"
  },
  "language_info": {
   "codemirror_mode": {
    "name": "ipython",
    "version": 3
   },
   "file_extension": ".py",
   "mimetype": "text/x-python",
   "name": "python",
   "nbconvert_exporter": "python",
   "pygments_lexer": "ipython3",
   "version": "3.11.8"
  }
 },
 "nbformat": 4,
 "nbformat_minor": 2
}
